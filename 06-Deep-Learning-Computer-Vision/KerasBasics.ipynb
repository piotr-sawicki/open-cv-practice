{
 "cells": [
  {
   "cell_type": "code",
   "execution_count": 1,
   "id": "b752f07e-a1ed-492d-a7c4-c18e26f38a46",
   "metadata": {},
   "outputs": [],
   "source": [
    "import numpy as np\n",
    "from numpy import genfromtxt"
   ]
  },
  {
   "cell_type": "code",
   "execution_count": 3,
   "id": "3d4878f2-034d-4b5d-ba99-5732185b8ed9",
   "metadata": {},
   "outputs": [],
   "source": [
    "data = genfromtxt('../DATA/bank_note_data.txt', delimiter=',')"
   ]
  },
  {
   "cell_type": "code",
   "execution_count": 4,
   "id": "22685322-2aa9-47d2-821a-b92e18d09d40",
   "metadata": {},
   "outputs": [
    {
     "data": {
      "text/plain": [
       "array([[  3.6216 ,   8.6661 ,  -2.8073 ,  -0.44699,   0.     ],\n",
       "       [  4.5459 ,   8.1674 ,  -2.4586 ,  -1.4621 ,   0.     ],\n",
       "       [  3.866  ,  -2.6383 ,   1.9242 ,   0.10645,   0.     ],\n",
       "       ...,\n",
       "       [ -3.7503 , -13.4586 ,  17.5932 ,  -2.7771 ,   1.     ],\n",
       "       [ -3.5637 ,  -8.3827 ,  12.393  ,  -1.2823 ,   1.     ],\n",
       "       [ -2.5419 ,  -0.65804,   2.6842 ,   1.1952 ,   1.     ]])"
      ]
     },
     "execution_count": 4,
     "metadata": {},
     "output_type": "execute_result"
    }
   ],
   "source": [
    "data"
   ]
  },
  {
   "cell_type": "code",
   "execution_count": 5,
   "id": "fef50327-01d8-445e-855e-bafa02c94cc0",
   "metadata": {},
   "outputs": [
    {
     "data": {
      "text/plain": [
       "(1372, 5)"
      ]
     },
     "execution_count": 5,
     "metadata": {},
     "output_type": "execute_result"
    }
   ],
   "source": [
    "data.shape"
   ]
  },
  {
   "cell_type": "code",
   "execution_count": 6,
   "id": "d8bad0f0-6538-4a0a-bc6f-5d00ec6f42a9",
   "metadata": {},
   "outputs": [],
   "source": [
    "labels = data[:, -1]"
   ]
  },
  {
   "cell_type": "code",
   "execution_count": 7,
   "id": "ce2231be-aefc-4522-96c0-9d50ca7cbd2d",
   "metadata": {},
   "outputs": [
    {
     "data": {
      "text/plain": [
       "array([0., 0., 0., ..., 1., 1., 1.])"
      ]
     },
     "execution_count": 7,
     "metadata": {},
     "output_type": "execute_result"
    }
   ],
   "source": [
    "labels"
   ]
  },
  {
   "cell_type": "code",
   "execution_count": 8,
   "id": "9132bdbf-73b9-4452-b8c3-ea1756399e23",
   "metadata": {},
   "outputs": [],
   "source": [
    "features = data[:, :4]"
   ]
  },
  {
   "cell_type": "code",
   "execution_count": 9,
   "id": "9c665b2a-a4ac-4a9c-96ec-783ebd926885",
   "metadata": {},
   "outputs": [
    {
     "data": {
      "text/plain": [
       "array([[  3.6216 ,   8.6661 ,  -2.8073 ,  -0.44699],\n",
       "       [  4.5459 ,   8.1674 ,  -2.4586 ,  -1.4621 ],\n",
       "       [  3.866  ,  -2.6383 ,   1.9242 ,   0.10645],\n",
       "       ...,\n",
       "       [ -3.7503 , -13.4586 ,  17.5932 ,  -2.7771 ],\n",
       "       [ -3.5637 ,  -8.3827 ,  12.393  ,  -1.2823 ],\n",
       "       [ -2.5419 ,  -0.65804,   2.6842 ,   1.1952 ]])"
      ]
     },
     "execution_count": 9,
     "metadata": {},
     "output_type": "execute_result"
    }
   ],
   "source": [
    "features"
   ]
  },
  {
   "cell_type": "code",
   "execution_count": 10,
   "id": "b723c1c7-9ba8-42e3-ab25-687a429c577a",
   "metadata": {},
   "outputs": [],
   "source": [
    "X = features\n",
    "y = labels"
   ]
  },
  {
   "cell_type": "code",
   "execution_count": 11,
   "id": "c9e6c3b8-6b0b-436d-9dc7-9a8682e77eb7",
   "metadata": {},
   "outputs": [],
   "source": [
    "from sklearn.model_selection import train_test_split"
   ]
  },
  {
   "cell_type": "code",
   "execution_count": 12,
   "id": "ebb4d439-d55d-4d58-a1be-51a36256e81c",
   "metadata": {},
   "outputs": [],
   "source": [
    "X_train, X_test, y_train, y_test = train_test_split(X, y, test_size=0.33, random_state=42)"
   ]
  },
  {
   "cell_type": "code",
   "execution_count": 19,
   "id": "04aa60f7-bb98-47aa-91b8-e707d9d090ab",
   "metadata": {},
   "outputs": [
    {
     "data": {
      "text/plain": [
       "array([ 6.8248, 12.9516, 17.9274,  2.1625])"
      ]
     },
     "execution_count": 19,
     "metadata": {},
     "output_type": "execute_result"
    }
   ],
   "source": [
    "X_train.max(axis=0)"
   ]
  },
  {
   "cell_type": "code",
   "execution_count": 16,
   "id": "94df4375-19f3-4c0d-9b37-f9fca3dcd7ad",
   "metadata": {},
   "outputs": [],
   "source": [
    "from sklearn.preprocessing import MinMaxScaler"
   ]
  },
  {
   "cell_type": "code",
   "execution_count": 21,
   "id": "0b67c032-4f74-4205-88b7-955e5bed67ef",
   "metadata": {},
   "outputs": [],
   "source": [
    "scaler_object = MinMaxScaler()"
   ]
  },
  {
   "cell_type": "code",
   "execution_count": 22,
   "id": "3c00321f-58db-42af-9c47-65a4d5ec1e44",
   "metadata": {},
   "outputs": [
    {
     "data": {
      "text/plain": [
       "MinMaxScaler()"
      ]
     },
     "execution_count": 22,
     "metadata": {},
     "output_type": "execute_result"
    }
   ],
   "source": [
    "scaler_object.fit(X_train)"
   ]
  },
  {
   "cell_type": "code",
   "execution_count": 24,
   "id": "bae2b4b9-89b7-4ebd-b352-df1f165968cd",
   "metadata": {},
   "outputs": [
    {
     "data": {
      "text/plain": [
       "array([1., 1., 1., 1.])"
      ]
     },
     "execution_count": 24,
     "metadata": {},
     "output_type": "execute_result"
    }
   ],
   "source": [
    "scaled_X_train = scaler_object.transform(X_train)\n",
    "scaled_X_test = scaler_object.transform(X_test)\n",
    "\n",
    "scaled_X_train.max(axis=0)"
   ]
  },
  {
   "cell_type": "code",
   "execution_count": 27,
   "id": "022c804d-aa25-430b-ad69-0e8477b2511c",
   "metadata": {},
   "outputs": [],
   "source": [
    "from keras.models import Sequential\n",
    "from keras.layers import Dense"
   ]
  },
  {
   "cell_type": "code",
   "execution_count": 43,
   "id": "2d780d82-ea58-43ff-b6f3-620800b14c57",
   "metadata": {},
   "outputs": [],
   "source": [
    "model = Sequential()\n",
    "\n",
    "model.add(Dense(4, input_dim=4, activation='relu'))\n",
    "model.add(Dense(8, activation='relu'))\n",
    "model.add(Dense(1, activation='sigmoid'))\n",
    "\n",
    "model.compile(loss='binary_crossentropy', optimizer='adam', metrics=['accuracy'])"
   ]
  },
  {
   "cell_type": "code",
   "execution_count": 49,
   "id": "29881e5f-775d-4f51-b80a-27984590713b",
   "metadata": {},
   "outputs": [
    {
     "name": "stdout",
     "output_type": "stream",
     "text": [
      "Epoch 1/50\n",
      "29/29 - 0s - loss: 0.1043 - accuracy: 0.9771\n",
      "Epoch 2/50\n",
      "29/29 - 0s - loss: 0.1014 - accuracy: 0.9761\n",
      "Epoch 3/50\n",
      "29/29 - 0s - loss: 0.0982 - accuracy: 0.9815\n",
      "Epoch 4/50\n",
      "29/29 - 0s - loss: 0.0954 - accuracy: 0.9815\n",
      "Epoch 5/50\n",
      "29/29 - 0s - loss: 0.0939 - accuracy: 0.9771\n",
      "Epoch 6/50\n",
      "29/29 - 0s - loss: 0.0906 - accuracy: 0.9804\n",
      "Epoch 7/50\n",
      "29/29 - 0s - loss: 0.0881 - accuracy: 0.9859\n",
      "Epoch 8/50\n",
      "29/29 - 0s - loss: 0.0865 - accuracy: 0.9848\n",
      "Epoch 9/50\n",
      "29/29 - 0s - loss: 0.0832 - accuracy: 0.9859\n",
      "Epoch 10/50\n",
      "29/29 - 0s - loss: 0.0808 - accuracy: 0.9902\n",
      "Epoch 11/50\n",
      "29/29 - 0s - loss: 0.0784 - accuracy: 0.9902\n",
      "Epoch 12/50\n",
      "29/29 - 0s - loss: 0.0767 - accuracy: 0.9891\n",
      "Epoch 13/50\n",
      "29/29 - 0s - loss: 0.0746 - accuracy: 0.9902\n",
      "Epoch 14/50\n",
      "29/29 - 0s - loss: 0.0730 - accuracy: 0.9902\n",
      "Epoch 15/50\n",
      "29/29 - 0s - loss: 0.0709 - accuracy: 0.9913\n",
      "Epoch 16/50\n",
      "29/29 - 0s - loss: 0.0694 - accuracy: 0.9935\n",
      "Epoch 17/50\n",
      "29/29 - 0s - loss: 0.0681 - accuracy: 0.9902\n",
      "Epoch 18/50\n",
      "29/29 - 0s - loss: 0.0663 - accuracy: 0.9935\n",
      "Epoch 19/50\n",
      "29/29 - 0s - loss: 0.0645 - accuracy: 0.9891\n",
      "Epoch 20/50\n",
      "29/29 - 0s - loss: 0.0636 - accuracy: 0.9935\n",
      "Epoch 21/50\n",
      "29/29 - 0s - loss: 0.0618 - accuracy: 0.9913\n",
      "Epoch 22/50\n",
      "29/29 - 0s - loss: 0.0605 - accuracy: 0.9946\n",
      "Epoch 23/50\n",
      "29/29 - 0s - loss: 0.0595 - accuracy: 0.9946\n",
      "Epoch 24/50\n",
      "29/29 - 0s - loss: 0.0579 - accuracy: 0.9924\n",
      "Epoch 25/50\n",
      "29/29 - 0s - loss: 0.0566 - accuracy: 0.9946\n",
      "Epoch 26/50\n",
      "29/29 - 0s - loss: 0.0561 - accuracy: 0.9902\n",
      "Epoch 27/50\n",
      "29/29 - 0s - loss: 0.0545 - accuracy: 0.9956\n",
      "Epoch 28/50\n",
      "29/29 - 0s - loss: 0.0533 - accuracy: 0.9946\n",
      "Epoch 29/50\n",
      "29/29 - 0s - loss: 0.0525 - accuracy: 0.9956\n",
      "Epoch 30/50\n",
      "29/29 - 0s - loss: 0.0510 - accuracy: 0.9935\n",
      "Epoch 31/50\n",
      "29/29 - 0s - loss: 0.0506 - accuracy: 0.9946\n",
      "Epoch 32/50\n",
      "29/29 - 0s - loss: 0.0504 - accuracy: 0.9946\n",
      "Epoch 33/50\n",
      "29/29 - 0s - loss: 0.0498 - accuracy: 0.9902\n",
      "Epoch 34/50\n",
      "29/29 - 0s - loss: 0.0479 - accuracy: 0.9956\n",
      "Epoch 35/50\n",
      "29/29 - 0s - loss: 0.0469 - accuracy: 0.9967\n",
      "Epoch 36/50\n",
      "29/29 - 0s - loss: 0.0460 - accuracy: 0.9946\n",
      "Epoch 37/50\n",
      "29/29 - 0s - loss: 0.0458 - accuracy: 0.9946\n",
      "Epoch 38/50\n",
      "29/29 - 0s - loss: 0.0454 - accuracy: 0.9946\n",
      "Epoch 39/50\n",
      "29/29 - 0s - loss: 0.0442 - accuracy: 0.9902\n",
      "Epoch 40/50\n",
      "29/29 - 0s - loss: 0.0432 - accuracy: 0.9956\n",
      "Epoch 41/50\n",
      "29/29 - 0s - loss: 0.0421 - accuracy: 0.9967\n",
      "Epoch 42/50\n",
      "29/29 - 0s - loss: 0.0415 - accuracy: 0.9967\n",
      "Epoch 43/50\n",
      "29/29 - 0s - loss: 0.0410 - accuracy: 0.9956\n",
      "Epoch 44/50\n",
      "29/29 - 0s - loss: 0.0404 - accuracy: 0.9956\n",
      "Epoch 45/50\n",
      "29/29 - 0s - loss: 0.0397 - accuracy: 0.9956\n",
      "Epoch 46/50\n",
      "29/29 - 0s - loss: 0.0390 - accuracy: 0.9967\n",
      "Epoch 47/50\n",
      "29/29 - 0s - loss: 0.0384 - accuracy: 0.9967\n",
      "Epoch 48/50\n",
      "29/29 - 0s - loss: 0.0378 - accuracy: 0.9967\n",
      "Epoch 49/50\n",
      "29/29 - 0s - loss: 0.0375 - accuracy: 0.9967\n",
      "Epoch 50/50\n",
      "29/29 - 0s - loss: 0.0366 - accuracy: 0.9967\n"
     ]
    },
    {
     "data": {
      "text/plain": [
       "<tensorflow.python.keras.callbacks.History at 0x1875d9e12e0>"
      ]
     },
     "execution_count": 49,
     "metadata": {},
     "output_type": "execute_result"
    }
   ],
   "source": [
    "model.fit(scaled_X_train, y_train,epochs=50, verbose=2)"
   ]
  },
  {
   "cell_type": "code",
   "execution_count": 34,
   "id": "7c6eb999-9b6d-4ce5-9198-1bd3cede2dfd",
   "metadata": {},
   "outputs": [],
   "source": [
    "from sklearn.metrics import confusion_matrix, classification_report"
   ]
  },
  {
   "cell_type": "code",
   "execution_count": 37,
   "id": "31dd2a37-7ec1-4577-b2d6-b8bf29ad937d",
   "metadata": {},
   "outputs": [
    {
     "data": {
      "text/plain": [
       "['loss', 'accuracy']"
      ]
     },
     "execution_count": 37,
     "metadata": {},
     "output_type": "execute_result"
    }
   ],
   "source": [
    " model.metrics_names"
   ]
  },
  {
   "cell_type": "code",
   "execution_count": 50,
   "id": "554f5d29-f9c4-4af8-af0d-7947cc224dd4",
   "metadata": {},
   "outputs": [],
   "source": [
    "predictions = model.predict_classes(scaled_X_test)"
   ]
  },
  {
   "cell_type": "code",
   "execution_count": 51,
   "id": "5c7b8c67-e2b3-4653-aaf9-c3dcb235064d",
   "metadata": {},
   "outputs": [
    {
     "data": {
      "text/plain": [
       "array([[256,   1],\n",
       "       [  0, 196]], dtype=int64)"
      ]
     },
     "execution_count": 51,
     "metadata": {},
     "output_type": "execute_result"
    }
   ],
   "source": [
    "confusion_matrix(y_test, predictions)"
   ]
  },
  {
   "cell_type": "code",
   "execution_count": 57,
   "id": "b02a02f5-1d75-4ded-8755-3b784acefb0a",
   "metadata": {},
   "outputs": [
    {
     "name": "stdout",
     "output_type": "stream",
     "text": [
      "              precision    recall  f1-score   support\n",
      "\n",
      "         0.0    1.00000   0.99611   0.99805       257\n",
      "         1.0    0.99492   1.00000   0.99746       196\n",
      "\n",
      "    accuracy                        0.99779       453\n",
      "   macro avg    0.99746   0.99805   0.99775       453\n",
      "weighted avg    0.99780   0.99779   0.99779       453\n",
      "\n"
     ]
    }
   ],
   "source": [
    "print(classification_report(y_test, predictions, digits=5))"
   ]
  },
  {
   "cell_type": "code",
   "execution_count": 56,
   "id": "4011f60e-70d1-475b-b00e-781f8d849c3b",
   "metadata": {},
   "outputs": [
    {
     "data": {
      "text/plain": [
       "(196,)"
      ]
     },
     "execution_count": 56,
     "metadata": {},
     "output_type": "execute_result"
    }
   ],
   "source": [
    "y_test[y_test == 1.0].shape"
   ]
  },
  {
   "cell_type": "code",
   "execution_count": 58,
   "id": "2f7331ab-4ef1-42d3-9996-4e6c1d8dd908",
   "metadata": {},
   "outputs": [],
   "source": [
    "model.save('my_ANN_model.h5')"
   ]
  },
  {
   "cell_type": "code",
   "execution_count": null,
   "id": "3cfa946b-1bd7-4e11-ba23-45ccb3258500",
   "metadata": {},
   "outputs": [],
   "source": []
  }
 ],
 "metadata": {
  "kernelspec": {
   "display_name": "Python 3",
   "language": "python",
   "name": "python3"
  },
  "language_info": {
   "codemirror_mode": {
    "name": "ipython",
    "version": 3
   },
   "file_extension": ".py",
   "mimetype": "text/x-python",
   "name": "python",
   "nbconvert_exporter": "python",
   "pygments_lexer": "ipython3",
   "version": "3.8.8"
  }
 },
 "nbformat": 4,
 "nbformat_minor": 5
}
